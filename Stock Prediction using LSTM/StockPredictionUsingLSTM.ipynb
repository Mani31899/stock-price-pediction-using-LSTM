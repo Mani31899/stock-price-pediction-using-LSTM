{
  "nbformat": 4,
  "nbformat_minor": 0,
  "metadata": {
    "colab": {
      "name": "StockPredictionUsingLSTM.ipynb",
      "provenance": [],
      "toc_visible": true
    },
    "kernelspec": {
      "name": "python3",
      "display_name": "Python 3"
    },
    "accelerator": "GPU"
  },
  "cells": [
    {
      "cell_type": "code",
      "metadata": {
        "id": "a_Ji0VKeyngu",
        "colab_type": "code",
        "colab": {
          "base_uri": "https://localhost:8080/",
          "height": 230
        },
        "outputId": "64201c4f-93c7-48f5-b08d-e5efdad500f1"
      },
      "source": [
        "!pip install yfinance\n"
      ],
      "execution_count": 63,
      "outputs": [
        {
          "output_type": "stream",
          "text": [
            "Requirement already satisfied: yfinance in /usr/local/lib/python3.6/dist-packages (0.1.54)\n",
            "Requirement already satisfied: requests>=2.20 in /usr/local/lib/python3.6/dist-packages (from yfinance) (2.23.0)\n",
            "Requirement already satisfied: pandas>=0.24 in /usr/local/lib/python3.6/dist-packages (from yfinance) (1.0.5)\n",
            "Requirement already satisfied: numpy>=1.15 in /usr/local/lib/python3.6/dist-packages (from yfinance) (1.18.5)\n",
            "Requirement already satisfied: multitasking>=0.0.7 in /usr/local/lib/python3.6/dist-packages (from yfinance) (0.0.9)\n",
            "Requirement already satisfied: chardet<4,>=3.0.2 in /usr/local/lib/python3.6/dist-packages (from requests>=2.20->yfinance) (3.0.4)\n",
            "Requirement already satisfied: idna<3,>=2.5 in /usr/local/lib/python3.6/dist-packages (from requests>=2.20->yfinance) (2.9)\n",
            "Requirement already satisfied: urllib3!=1.25.0,!=1.25.1,<1.26,>=1.21.1 in /usr/local/lib/python3.6/dist-packages (from requests>=2.20->yfinance) (1.24.3)\n",
            "Requirement already satisfied: certifi>=2017.4.17 in /usr/local/lib/python3.6/dist-packages (from requests>=2.20->yfinance) (2020.6.20)\n",
            "Requirement already satisfied: pytz>=2017.2 in /usr/local/lib/python3.6/dist-packages (from pandas>=0.24->yfinance) (2018.9)\n",
            "Requirement already satisfied: python-dateutil>=2.6.1 in /usr/local/lib/python3.6/dist-packages (from pandas>=0.24->yfinance) (2.8.1)\n",
            "Requirement already satisfied: six>=1.5 in /usr/local/lib/python3.6/dist-packages (from python-dateutil>=2.6.1->pandas>=0.24->yfinance) (1.12.0)\n"
          ],
          "name": "stdout"
        }
      ]
    },
    {
      "cell_type": "markdown",
      "metadata": {
        "id": "aD5J0GqmCwft",
        "colab_type": "text"
      },
      "source": [
        "#Step 1: Get Stock Data"
      ]
    },
    {
      "cell_type": "code",
      "metadata": {
        "id": "UReJ7rkiDs1Z",
        "colab_type": "code",
        "colab": {}
      },
      "source": [
        "import yfinance as yf\n",
        "import pandas as pd\n",
        "import numpy as np\n",
        "import matplotlib.pyplot as plt\n",
        "from pandas.plotting import register_matplotlib_converters\n",
        "register_matplotlib_converters()"
      ],
      "execution_count": 64,
      "outputs": []
    },
    {
      "cell_type": "code",
      "metadata": {
        "id": "WsIf7EAzyh6T",
        "colab_type": "code",
        "colab": {
          "base_uri": "https://localhost:8080/",
          "height": 0
        },
        "outputId": "b54a0bc0-0d56-423f-cee1-105aad09a71f"
      },
      "source": [
        "ticker = yf.Ticker(\"RELIANCE.NS\")\n",
        "data = ticker.history(period = \"15y\", interval = \"1d\")\n",
        "data.head()\n",
        "\n"
      ],
      "execution_count": 65,
      "outputs": [
        {
          "output_type": "execute_result",
          "data": {
            "text/html": [
              "<div>\n",
              "<style scoped>\n",
              "    .dataframe tbody tr th:only-of-type {\n",
              "        vertical-align: middle;\n",
              "    }\n",
              "\n",
              "    .dataframe tbody tr th {\n",
              "        vertical-align: top;\n",
              "    }\n",
              "\n",
              "    .dataframe thead th {\n",
              "        text-align: right;\n",
              "    }\n",
              "</style>\n",
              "<table border=\"1\" class=\"dataframe\">\n",
              "  <thead>\n",
              "    <tr style=\"text-align: right;\">\n",
              "      <th></th>\n",
              "      <th>Open</th>\n",
              "      <th>High</th>\n",
              "      <th>Low</th>\n",
              "      <th>Close</th>\n",
              "      <th>Volume</th>\n",
              "      <th>Dividends</th>\n",
              "      <th>Stock Splits</th>\n",
              "    </tr>\n",
              "    <tr>\n",
              "      <th>Date</th>\n",
              "      <th></th>\n",
              "      <th></th>\n",
              "      <th></th>\n",
              "      <th></th>\n",
              "      <th></th>\n",
              "      <th></th>\n",
              "      <th></th>\n",
              "    </tr>\n",
              "  </thead>\n",
              "  <tbody>\n",
              "    <tr>\n",
              "      <th>2005-06-30</th>\n",
              "      <td>76.59</td>\n",
              "      <td>77.20</td>\n",
              "      <td>75.25</td>\n",
              "      <td>75.95</td>\n",
              "      <td>46068444</td>\n",
              "      <td>0.0</td>\n",
              "      <td>0.0</td>\n",
              "    </tr>\n",
              "    <tr>\n",
              "      <th>2005-07-01</th>\n",
              "      <td>76.00</td>\n",
              "      <td>76.24</td>\n",
              "      <td>75.36</td>\n",
              "      <td>75.66</td>\n",
              "      <td>22496339</td>\n",
              "      <td>0.0</td>\n",
              "      <td>0.0</td>\n",
              "    </tr>\n",
              "    <tr>\n",
              "      <th>2005-07-04</th>\n",
              "      <td>75.88</td>\n",
              "      <td>76.77</td>\n",
              "      <td>75.53</td>\n",
              "      <td>76.17</td>\n",
              "      <td>24424609</td>\n",
              "      <td>0.0</td>\n",
              "      <td>0.0</td>\n",
              "    </tr>\n",
              "    <tr>\n",
              "      <th>2005-07-05</th>\n",
              "      <td>76.12</td>\n",
              "      <td>76.59</td>\n",
              "      <td>75.23</td>\n",
              "      <td>75.42</td>\n",
              "      <td>30094749</td>\n",
              "      <td>0.0</td>\n",
              "      <td>0.0</td>\n",
              "    </tr>\n",
              "    <tr>\n",
              "      <th>2005-07-06</th>\n",
              "      <td>75.34</td>\n",
              "      <td>76.48</td>\n",
              "      <td>75.34</td>\n",
              "      <td>76.26</td>\n",
              "      <td>21495287</td>\n",
              "      <td>0.0</td>\n",
              "      <td>0.0</td>\n",
              "    </tr>\n",
              "  </tbody>\n",
              "</table>\n",
              "</div>"
            ],
            "text/plain": [
              "             Open   High    Low  Close    Volume  Dividends  Stock Splits\n",
              "Date                                                                     \n",
              "2005-06-30  76.59  77.20  75.25  75.95  46068444        0.0           0.0\n",
              "2005-07-01  76.00  76.24  75.36  75.66  22496339        0.0           0.0\n",
              "2005-07-04  75.88  76.77  75.53  76.17  24424609        0.0           0.0\n",
              "2005-07-05  76.12  76.59  75.23  75.42  30094749        0.0           0.0\n",
              "2005-07-06  75.34  76.48  75.34  76.26  21495287        0.0           0.0"
            ]
          },
          "metadata": {
            "tags": []
          },
          "execution_count": 65
        }
      ]
    },
    {
      "cell_type": "code",
      "metadata": {
        "id": "1wQDedHTzvbJ",
        "colab_type": "code",
        "colab": {
          "base_uri": "https://localhost:8080/",
          "height": 0
        },
        "outputId": "d681d96d-3f91-437b-f412-ad27500b330d"
      },
      "source": [
        "# Sort the dataframe according to the date\n",
        "data.sort_values('Date', inplace=True, ascending=True)\n",
        "\n",
        "# Print the dataframe top\n",
        "data.head()\n"
      ],
      "execution_count": 66,
      "outputs": [
        {
          "output_type": "execute_result",
          "data": {
            "text/html": [
              "<div>\n",
              "<style scoped>\n",
              "    .dataframe tbody tr th:only-of-type {\n",
              "        vertical-align: middle;\n",
              "    }\n",
              "\n",
              "    .dataframe tbody tr th {\n",
              "        vertical-align: top;\n",
              "    }\n",
              "\n",
              "    .dataframe thead th {\n",
              "        text-align: right;\n",
              "    }\n",
              "</style>\n",
              "<table border=\"1\" class=\"dataframe\">\n",
              "  <thead>\n",
              "    <tr style=\"text-align: right;\">\n",
              "      <th></th>\n",
              "      <th>Open</th>\n",
              "      <th>High</th>\n",
              "      <th>Low</th>\n",
              "      <th>Close</th>\n",
              "      <th>Volume</th>\n",
              "      <th>Dividends</th>\n",
              "      <th>Stock Splits</th>\n",
              "    </tr>\n",
              "    <tr>\n",
              "      <th>Date</th>\n",
              "      <th></th>\n",
              "      <th></th>\n",
              "      <th></th>\n",
              "      <th></th>\n",
              "      <th></th>\n",
              "      <th></th>\n",
              "      <th></th>\n",
              "    </tr>\n",
              "  </thead>\n",
              "  <tbody>\n",
              "    <tr>\n",
              "      <th>2005-06-30</th>\n",
              "      <td>76.59</td>\n",
              "      <td>77.20</td>\n",
              "      <td>75.25</td>\n",
              "      <td>75.95</td>\n",
              "      <td>46068444</td>\n",
              "      <td>0.0</td>\n",
              "      <td>0.0</td>\n",
              "    </tr>\n",
              "    <tr>\n",
              "      <th>2005-07-01</th>\n",
              "      <td>76.00</td>\n",
              "      <td>76.24</td>\n",
              "      <td>75.36</td>\n",
              "      <td>75.66</td>\n",
              "      <td>22496339</td>\n",
              "      <td>0.0</td>\n",
              "      <td>0.0</td>\n",
              "    </tr>\n",
              "    <tr>\n",
              "      <th>2005-07-04</th>\n",
              "      <td>75.88</td>\n",
              "      <td>76.77</td>\n",
              "      <td>75.53</td>\n",
              "      <td>76.17</td>\n",
              "      <td>24424609</td>\n",
              "      <td>0.0</td>\n",
              "      <td>0.0</td>\n",
              "    </tr>\n",
              "    <tr>\n",
              "      <th>2005-07-05</th>\n",
              "      <td>76.12</td>\n",
              "      <td>76.59</td>\n",
              "      <td>75.23</td>\n",
              "      <td>75.42</td>\n",
              "      <td>30094749</td>\n",
              "      <td>0.0</td>\n",
              "      <td>0.0</td>\n",
              "    </tr>\n",
              "    <tr>\n",
              "      <th>2005-07-06</th>\n",
              "      <td>75.34</td>\n",
              "      <td>76.48</td>\n",
              "      <td>75.34</td>\n",
              "      <td>76.26</td>\n",
              "      <td>21495287</td>\n",
              "      <td>0.0</td>\n",
              "      <td>0.0</td>\n",
              "    </tr>\n",
              "  </tbody>\n",
              "</table>\n",
              "</div>"
            ],
            "text/plain": [
              "             Open   High    Low  Close    Volume  Dividends  Stock Splits\n",
              "Date                                                                     \n",
              "2005-06-30  76.59  77.20  75.25  75.95  46068444        0.0           0.0\n",
              "2005-07-01  76.00  76.24  75.36  75.66  22496339        0.0           0.0\n",
              "2005-07-04  75.88  76.77  75.53  76.17  24424609        0.0           0.0\n",
              "2005-07-05  76.12  76.59  75.23  75.42  30094749        0.0           0.0\n",
              "2005-07-06  75.34  76.48  75.34  76.26  21495287        0.0           0.0"
            ]
          },
          "metadata": {
            "tags": []
          },
          "execution_count": 66
        }
      ]
    },
    {
      "cell_type": "code",
      "metadata": {
        "id": "UOdWZURbzuHR",
        "colab_type": "code",
        "colab": {
          "base_uri": "https://localhost:8080/",
          "height": 0
        },
        "outputId": "11cc9cb2-35d1-4349-b556-b76bd9a05370"
      },
      "source": [
        "# Visualization of data. Plotting the price close.\n",
        "plt.figure(num=None, figsize=(15, 6), dpi=80, facecolor='w', edgecolor='k')\n",
        "data['Close'].plot()\n",
        "plt.tight_layout()\n",
        "plt.grid()\n",
        "plt.show()"
      ],
      "execution_count": 67,
      "outputs": [
        {
          "output_type": "display_data",
          "data": {
            "image/png": "[encoded data removed]",
            "text/plain": [
              "<Figure size 1200x480 with 1 Axes>"
            ]
          },
          "metadata": {
            "tags": []
          }
        }
      ]
    },
    {
      "cell_type": "markdown",
      "metadata": {
        "id": "rGJRlgi3C03D",
        "colab_type": "text"
      },
      "source": [
        "#Step 2: Create the Dataset"
      ]
    },
    {
      "cell_type": "code",
      "metadata": {
        "id": "mGesznO0z1So",
        "colab_type": "code",
        "colab": {
          "base_uri": "https://localhost:8080/",
          "height": 0
        },
        "outputId": "055d0063-2c31-4458-bbdd-28b536fd9803"
      },
      "source": [
        "# Get Close data\n",
        "df = data[['Close']].copy()\n",
        "# Split data into train and test\n",
        "train, test = df.iloc[0:-200], df.iloc[-200:len(df)]\n",
        "print(len(train), len(test))\n",
        "\n",
        "#print(train.iloc[0:10].values)"
      ],
      "execution_count": 68,
      "outputs": [
        {
          "output_type": "stream",
          "text": [
            "3486 200\n"
          ],
          "name": "stdout"
        }
      ]
    },
    {
      "cell_type": "code",
      "metadata": {
        "id": "7HCOIQmn78jc",
        "colab_type": "code",
        "colab": {}
      },
      "source": [
        "\n",
        "train_max = train.max()\n",
        "train_min = train.min()\n",
        "\n",
        "# Normalize the dataframes\n",
        "train = (train - train_min)/(train_max - train_min)\n",
        "test = (test - train_min)/(train_max - train_min)"
      ],
      "execution_count": 69,
      "outputs": []
    },
    {
      "cell_type": "code",
      "metadata": {
        "id": "jAOazwHI8Ic6",
        "colab_type": "code",
        "colab": {}
      },
      "source": [
        "def create_dataset(X, y, time_steps=1):\n",
        "    Xs, ys = [], []\n",
        "    for i in range(len(X) - time_steps):\n",
        "        v = X.iloc[i:(i + time_steps)].values\n",
        "        Xs.append(v)        \n",
        "        ys.append(y.iloc[i + time_steps])\n",
        "     #print(np.array(Xs), np.array(ys))\n",
        "    return np.array(Xs), np.array(ys)\n",
        "\n",
        "\n",
        "time_steps = 1\n",
        "\n",
        "X_train, y_train = create_dataset(train, train.Close, time_steps)\n",
        "X_test, y_test = create_dataset(test, test.Close, time_steps)"
      ],
      "execution_count": 70,
      "outputs": []
    },
    {
      "cell_type": "markdown",
      "metadata": {
        "id": "nfMmlAcyCkPT",
        "colab_type": "text"
      },
      "source": [
        "#Step 3:Create the Model and Train"
      ]
    },
    {
      "cell_type": "code",
      "metadata": {
        "id": "JGSCfv2o8NU6",
        "colab_type": "code",
        "colab": {
          "base_uri": "https://localhost:8080/",
          "height": 0
        },
        "outputId": "eaa87480-1791-41fd-8aaa-5b65f233da62"
      },
      "source": [
        "\n",
        "import tensorflow as tf\n",
        "from tensorflow import keras\n",
        "\n",
        "model = keras.Sequential()\n",
        "model.add(keras.layers.LSTM(250, input_shape=(X_train.shape[1], X_train.shape[2])))\n",
        "model.add(keras.layers.Dropout(0.2))\n",
        "model.add(keras.layers.Dense(1))\n",
        "model.compile(loss='mae', optimizer='adam')\n",
        "model.summary()\n",
        "\n",
        "history = model.fit(\n",
        "    X_train, y_train,\n",
        "    epochs=50,\n",
        "    batch_size=32,\n",
        "    shuffle=False\n",
        ")"
      ],
      "execution_count": 71,
      "outputs": [
        {
          "output_type": "stream",
          "text": [
            "Model: \"sequential_6\"\n",
            "_________________________________________________________________\n",
            "Layer (type)                 Output Shape              Param #   \n",
            "=================================================================\n",
            "lstm_6 (LSTM)                (None, 250)               252000    \n",
            "_________________________________________________________________\n",
            "dropout_6 (Dropout)          (None, 250)               0         \n",
            "_________________________________________________________________\n",
            "dense_6 (Dense)              (None, 1)                 251       \n",
            "=================================================================\n",
            "Total params: 252,251\n",
            "Trainable params: 252,251\n",
            "Non-trainable params: 0\n",
            "_________________________________________________________________\n",
            "Epoch 1/50\n",
            "109/109 [==============================] - 0s 3ms/step - loss: 0.0603\n",
            "Epoch 2/50\n",
            "109/109 [==============================] - 0s 3ms/step - loss: 0.1112\n",
            "Epoch 3/50\n",
            "109/109 [==============================] - 0s 3ms/step - loss: 0.0714\n",
            "Epoch 4/50\n",
            "109/109 [==============================] - 0s 3ms/step - loss: 0.0422\n",
            "Epoch 5/50\n",
            "109/109 [==============================] - 0s 3ms/step - loss: 0.0324\n",
            "Epoch 6/50\n",
            "109/109 [==============================] - 0s 3ms/step - loss: 0.0248\n",
            "Epoch 7/50\n",
            "109/109 [==============================] - 0s 3ms/step - loss: 0.0183\n",
            "Epoch 8/50\n",
            "109/109 [==============================] - 0s 3ms/step - loss: 0.0135\n",
            "Epoch 9/50\n",
            "109/109 [==============================] - 0s 3ms/step - loss: 0.0135\n",
            "Epoch 10/50\n",
            "109/109 [==============================] - 0s 3ms/step - loss: 0.0137\n",
            "Epoch 11/50\n",
            "109/109 [==============================] - 0s 3ms/step - loss: 0.0135\n",
            "Epoch 12/50\n",
            "109/109 [==============================] - 0s 3ms/step - loss: 0.0119\n",
            "Epoch 13/50\n",
            "109/109 [==============================] - 0s 3ms/step - loss: 0.0117\n",
            "Epoch 14/50\n",
            "109/109 [==============================] - 0s 3ms/step - loss: 0.0117\n",
            "Epoch 15/50\n",
            "109/109 [==============================] - 0s 3ms/step - loss: 0.0122\n",
            "Epoch 16/50\n",
            "109/109 [==============================] - 0s 3ms/step - loss: 0.0137\n",
            "Epoch 17/50\n",
            "109/109 [==============================] - 0s 3ms/step - loss: 0.0133\n",
            "Epoch 18/50\n",
            "109/109 [==============================] - 0s 3ms/step - loss: 0.0129\n",
            "Epoch 19/50\n",
            "109/109 [==============================] - 0s 3ms/step - loss: 0.0104\n",
            "Epoch 20/50\n",
            "109/109 [==============================] - 0s 3ms/step - loss: 0.0096\n",
            "Epoch 21/50\n",
            "109/109 [==============================] - 0s 3ms/step - loss: 0.0095\n",
            "Epoch 22/50\n",
            "109/109 [==============================] - 0s 3ms/step - loss: 0.0102\n",
            "Epoch 23/50\n",
            "109/109 [==============================] - 0s 3ms/step - loss: 0.0096\n",
            "Epoch 24/50\n",
            "109/109 [==============================] - 0s 3ms/step - loss: 0.0102\n",
            "Epoch 25/50\n",
            "109/109 [==============================] - 0s 3ms/step - loss: 0.0100\n",
            "Epoch 26/50\n",
            "109/109 [==============================] - 0s 3ms/step - loss: 0.0105\n",
            "Epoch 27/50\n",
            "109/109 [==============================] - 0s 3ms/step - loss: 0.0107\n",
            "Epoch 28/50\n",
            "109/109 [==============================] - 0s 3ms/step - loss: 0.0107\n",
            "Epoch 29/50\n",
            "109/109 [==============================] - 0s 3ms/step - loss: 0.0094\n",
            "Epoch 30/50\n",
            "109/109 [==============================] - 0s 3ms/step - loss: 0.0095\n",
            "Epoch 31/50\n",
            "109/109 [==============================] - 0s 3ms/step - loss: 0.0104\n",
            "Epoch 32/50\n",
            "109/109 [==============================] - 0s 3ms/step - loss: 0.0111\n",
            "Epoch 33/50\n",
            "109/109 [==============================] - 0s 3ms/step - loss: 0.0124\n",
            "Epoch 34/50\n",
            "109/109 [==============================] - 0s 3ms/step - loss: 0.0119\n",
            "Epoch 35/50\n",
            "109/109 [==============================] - 0s 3ms/step - loss: 0.0116\n",
            "Epoch 36/50\n",
            "109/109 [==============================] - 0s 3ms/step - loss: 0.0098\n",
            "Epoch 37/50\n",
            "109/109 [==============================] - 0s 3ms/step - loss: 0.0111\n",
            "Epoch 38/50\n",
            "109/109 [==============================] - 0s 3ms/step - loss: 0.0115\n",
            "Epoch 39/50\n",
            "109/109 [==============================] - 0s 3ms/step - loss: 0.0103\n",
            "Epoch 40/50\n",
            "109/109 [==============================] - 0s 3ms/step - loss: 0.0107\n",
            "Epoch 41/50\n",
            "109/109 [==============================] - 0s 3ms/step - loss: 0.0107\n",
            "Epoch 42/50\n",
            "109/109 [==============================] - 0s 3ms/step - loss: 0.0103\n",
            "Epoch 43/50\n",
            "109/109 [==============================] - 0s 3ms/step - loss: 0.0097\n",
            "Epoch 44/50\n",
            "109/109 [==============================] - 0s 3ms/step - loss: 0.0104\n",
            "Epoch 45/50\n",
            "109/109 [==============================] - 0s 3ms/step - loss: 0.0098\n",
            "Epoch 46/50\n",
            "109/109 [==============================] - 0s 3ms/step - loss: 0.0097\n",
            "Epoch 47/50\n",
            "109/109 [==============================] - 0s 3ms/step - loss: 0.0109\n",
            "Epoch 48/50\n",
            "109/109 [==============================] - 0s 3ms/step - loss: 0.0114\n",
            "Epoch 49/50\n",
            "109/109 [==============================] - 0s 3ms/step - loss: 0.0097\n",
            "Epoch 50/50\n",
            "109/109 [==============================] - 0s 3ms/step - loss: 0.0091\n"
          ],
          "name": "stdout"
        }
      ]
    },
    {
      "cell_type": "code",
      "metadata": {
        "id": "dCXC92qr-kDz",
        "colab_type": "code",
        "colab": {
          "base_uri": "https://localhost:8080/",
          "height": 0
        },
        "outputId": "14389e0c-af2b-45f1-b3b5-e4f594c52421"
      },
      "source": [
        "plt.plot(history.history['loss'], label='train')\n",
        "plt.legend();\n",
        "plt.show()"
      ],
      "execution_count": 72,
      "outputs": [
        {
          "output_type": "display_data",
          "data": {
            "image/png": "[encoded data removed]",
            "text/plain": [
              "<Figure size 432x288 with 1 Axes>"
            ]
          },
          "metadata": {
            "tags": [],
            "needs_background": "light"
          }
        }
      ]
    },
    {
      "cell_type": "markdown",
      "metadata": {
        "id": "083KAtYACm0J",
        "colab_type": "text"
      },
      "source": [
        "#Step 4: Predict!"
      ]
    },
    {
      "cell_type": "code",
      "metadata": {
        "id": "tO1yBT_p-0Xt",
        "colab_type": "code",
        "colab": {
          "base_uri": "https://localhost:8080/",
          "height": 279
        },
        "outputId": "c5f34b8a-1725-4614-c57c-b0d6adca9740"
      },
      "source": [
        "y_pred = model.predict(X_test)\n",
        "\n",
        "# Rescale the data back to the original scale\n",
        "y_test = y_test*(train_max[0] - train_min[0]) + train_min[0]\n",
        "y_pred = y_pred*(train_max[0] - train_min[0]) + train_min[0]\n",
        "y_train = y_train*(train_max[0] - train_min[0]) + train_min[0]\n",
        "\n",
        "# Plotting the results\n",
        "plt.plot(np.arange(len(y_train), len(y_train) + len(y_test)), y_test.flatten(), marker='.', label=\"true\")\n",
        "plt.plot(np.arange(len(y_train), len(y_train) + len(y_test)), y_pred.flatten(), 'r', marker='.', label=\"prediction\")\n",
        "plt.plot(np.arange(0, len(y_train)), y_train.flatten(), 'g', marker='.', label=\"history\")\n",
        "plt.ylabel('Close')\n",
        "plt.xlabel('Time Step')\n",
        "plt.legend()\n",
        "\n",
        "plt.show()"
      ],
      "execution_count": 73,
      "outputs": [
        {
          "output_type": "display_data",
          "data": {
            "image/png": "[encoded data removed]",
            "text/plain": [
              "<Figure size 432x288 with 1 Axes>"
            ]
          },
          "metadata": {
            "tags": [],
            "needs_background": "light"
          }
        }
      ]
    }
  ]
}